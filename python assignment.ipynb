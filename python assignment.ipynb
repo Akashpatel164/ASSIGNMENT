{
 "cells": [
  {
   "cell_type": "markdown",
   "id": "7a06b906",
   "metadata": {},
   "source": [
    "string\n"
   ]
  },
  {
   "cell_type": "markdown",
   "id": "6a14a3ad",
   "metadata": {},
   "source": [
    "1. Write a Python program to count the number of characters (character frequency) in a string"
   ]
  },
  {
   "cell_type": "code",
   "execution_count": null,
   "id": "208b4aa4",
   "metadata": {},
   "outputs": [],
   "source": [
    "str='google.com'"
   ]
  },
  {
   "cell_type": "code",
   "execution_count": null,
   "id": "777c086a",
   "metadata": {},
   "outputs": [],
   "source": [
    "char_dict={}\n",
    "\n",
    "for A in str:\n",
    "    if A in char_dict:\n",
    "        char_dict[A]+=1\n",
    "    else:\n",
    "        char_dict[A] = 1"
   ]
  },
  {
   "cell_type": "code",
   "execution_count": null,
   "id": "9a5f8357",
   "metadata": {},
   "outputs": [],
   "source": [
    "print(char_dict)"
   ]
  },
  {
   "cell_type": "markdown",
   "id": "d7947628",
   "metadata": {},
   "source": [
    "2. Write a Python program to get a string from a given string where all occurrences \n",
    "of its first char have been changed to '$' ,except the first char itself"
   ]
  },
  {
   "cell_type": "code",
   "execution_count": null,
   "id": "71a56951",
   "metadata": {},
   "outputs": [],
   "source": [
    "str='Restart'"
   ]
  },
  {
   "cell_type": "code",
   "execution_count": null,
   "id": "d060e928",
   "metadata": {},
   "outputs": [],
   "source": [
    "for A in str:\n",
    "    print(A.replace('r','$'),end='')"
   ]
  },
  {
   "cell_type": "markdown",
   "id": "8c042db3",
   "metadata": {},
   "source": [
    "\n",
    "3. Write a Python function that takes a list of words and returns the length of the longest one"
   ]
  },
  {
   "cell_type": "code",
   "execution_count": null,
   "id": "2eead75e",
   "metadata": {},
   "outputs": [],
   "source": [
    "def find_longest_word(words):\n",
    "    longest_length = 0\n",
    "    for word in words:\n",
    "        if len(word) > longest_length:\n",
    "            longest_length = len(word)\n",
    "    return longest_length"
   ]
  },
  {
   "cell_type": "code",
   "execution_count": null,
   "id": "acd58412",
   "metadata": {},
   "outputs": [],
   "source": [
    "word_list = ['hello', 'world', 'Python', 'programming']\n",
    "longest_word_length = find_longest_word(word_list)\n",
    "print(longest_word_length)"
   ]
  },
  {
   "cell_type": "markdown",
   "id": "258e048e",
   "metadata": {},
   "source": [
    "4. Write a Python program to count the occurrences of each word in a given sentence"
   ]
  },
  {
   "cell_type": "code",
   "execution_count": null,
   "id": "dcf5aae5",
   "metadata": {},
   "outputs": [],
   "source": [
    "def word_count(str):\n",
    "    counts = dict()\n",
    "    words = str.split()\n",
    "\n",
    "    for word in words:\n",
    "        if word in counts:\n",
    "            counts[word] += 1\n",
    "        else:\n",
    "            counts[word] = 1\n",
    "\n",
    "    return counts\n",
    "\n",
    "print( word_count('This is a sample sentence. This sentence contains some repeated words.'))"
   ]
  },
  {
   "cell_type": "markdown",
   "id": "8298ed71",
   "metadata": {},
   "source": [
    "5. Write a Python function to convert a given string to all uppercase if \n",
    "it contains at least 2 uppercase characters in the first 4 characters."
   ]
  },
  {
   "cell_type": "code",
   "execution_count": null,
   "id": "386c5d2d",
   "metadata": {},
   "outputs": [],
   "source": [
    "def convert_to_uppercase(string):\n",
    "    count = 0\n",
    "    for char in string[:4]:\n",
    "        if char.isupper():\n",
    "            count += 1\n",
    "\n",
    "    if count >= 2:\n",
    "        return string.upper()\n",
    "    else:\n",
    "        return string"
   ]
  },
  {
   "cell_type": "code",
   "execution_count": null,
   "id": "059b0093",
   "metadata": {},
   "outputs": [],
   "source": [
    "print(convert_to_uppercase(\"AbCde\")) "
   ]
  },
  {
   "cell_type": "markdown",
   "id": "cc7d7f96",
   "metadata": {},
   "source": [
    "6. Write a Python program to count and display the vowels of a given text"
   ]
  },
  {
   "cell_type": "code",
   "execution_count": null,
   "id": "c9faa1e0",
   "metadata": {},
   "outputs": [],
   "source": [
    "text = input(\"enter a text: \").lower()\n",
    "vowels='aeiou'\n",
    "vowel_count={vowel: text.count(vowel) for vowel in vowels}\n",
    "print('vowel counts:')\n",
    "for vowel,count in vowel_count.items():\n",
    "    print(f'{vowel}:{count}')"
   ]
  },
  {
   "cell_type": "markdown",
   "id": "9b6ce316",
   "metadata": {},
   "source": [
    "LIST"
   ]
  },
  {
   "cell_type": "markdown",
   "id": "18f215b8",
   "metadata": {},
   "source": [
    "1.Write a Python program to check a list is empty or not"
   ]
  },
  {
   "cell_type": "code",
   "execution_count": null,
   "id": "e88eea60",
   "metadata": {},
   "outputs": [],
   "source": [
    "list = ['AA','BB','CC', 'DD']\n",
    "for x in list:\n",
    " if not list:\n",
    "    print(\"this is empty\")\n",
    " else:\n",
    "    print(\"this list is not empty\")\n"
   ]
  },
  {
   "cell_type": "markdown",
   "id": "23ab4fd9",
   "metadata": {},
   "source": [
    "2.Write a Python program to remove duplicates from a list."
   ]
  },
  {
   "cell_type": "code",
   "execution_count": null,
   "id": "102d95c9",
   "metadata": {},
   "outputs": [],
   "source": [
    "def Remove(duplicate):\n",
    "    final_list = []\n",
    "    for num in duplicate:\n",
    "        if num not in final_list:\n",
    "               final_list.append(num)\n",
    "    return final_list\n",
    "\n",
    "duplicate = [2, 4, 10, 20, 5, 2, 20, 4]\n",
    "print(Remove(duplicate))"
   ]
  },
  {
   "cell_type": "markdown",
   "id": "5a4b81d2",
   "metadata": {},
   "source": [
    "3.Write a Python function that takes two lists and returns True if they have at least one"
   ]
  },
  {
   "cell_type": "code",
   "execution_count": null,
   "id": "582c62f0",
   "metadata": {},
   "outputs": [],
   "source": [
    "list1 = [1, 2, 3, 4, 5]\n",
    "list2 = [5, 6, 7, 8, 9]\n",
    "def have_common_member(list1, list2):\n",
    "    for item in list1:\n",
    "        if item in list2:\n",
    "            return True\n",
    "    return False\n",
    "result = have_common_member(list1, list2)\n",
    "if result:\n",
    "    print(\"The lists have at least one common member.\")\n",
    "else:\n",
    "    print(\"The lists do not have any common members.\")\n"
   ]
  },
  {
   "cell_type": "markdown",
   "id": "57082d73",
   "metadata": {},
   "source": [
    "4.Write a Python program to get the difference between the two lists\n"
   ]
  },
  {
   "cell_type": "code",
   "execution_count": null,
   "id": "0d705cb0",
   "metadata": {},
   "outputs": [],
   "source": [
    "list1 = [11, 22, 33, 44, 55]\n",
    "list2 = [33, 44,55, 66, 77]\n",
    "difference = [x\n",
    " for x in list1\n",
    " if x not in list2]\n",
    "print(\"The difference between list1 and list2 is:\", difference)\n"
   ]
  },
  {
   "cell_type": "markdown",
   "id": "ac1b485f",
   "metadata": {},
   "source": [
    "5.Write a Python program to find the second smallest number in a list"
   ]
  },
  {
   "cell_type": "code",
   "execution_count": null,
   "id": "57fd7ee6",
   "metadata": {},
   "outputs": [],
   "source": [
    "numbers = [55,66,77,88,99]\n",
    "second_smallest = min([x\n",
    " for x in numbers\n",
    " if x != min(numbers)])\n",
    "print(\"The second smallest number is:\", second_smallest)"
   ]
  },
  {
   "cell_type": "markdown",
   "id": "781d7f57",
   "metadata": {},
   "source": [
    "6.Write a Python program to find the second largest number in a list.\n"
   ]
  },
  {
   "cell_type": "code",
   "execution_count": null,
   "id": "fd31f4af",
   "metadata": {},
   "outputs": [],
   "source": [
    "numbers = [55,66,77,88,99]\n",
    "second_largest = max([x\n",
    " for x in numbers\n",
    " if x != max(numbers)])\n",
    "print(\"The second largest number is:\", second_largest)"
   ]
  },
  {
   "cell_type": "markdown",
   "id": "cc73a833",
   "metadata": {},
   "source": [
    "7.Write a Python program to get the frequency of the elements in a list"
   ]
  },
  {
   "cell_type": "code",
   "execution_count": null,
   "id": "dcba40bb",
   "metadata": {},
   "outputs": [],
   "source": [
    "list = [1,1,1,2,2,2,3,3,3,4,44]\n",
    "frequency_dict = {}\n",
    "for item in list:\n",
    "    if item in frequency_dict:\n",
    "          frequency_dict[item]+=1\n",
    "    else:\n",
    "          frequency_dict[item] =1\n",
    " \n",
    "for key,value in frequency_dict.items():\n",
    "     print(f\"{key}: {value} times\")\n"
   ]
  },
  {
   "cell_type": "markdown",
   "id": "a69dc6a8",
   "metadata": {},
   "source": [
    "8.Write a Python program to convert a list of multiple integers into a single integer"
   ]
  },
  {
   "cell_type": "code",
   "execution_count": null,
   "id": "fd8a5018",
   "metadata": {},
   "outputs": [],
   "source": [
    "list = [11, 33, 50]\n",
    "for i in list:\n",
    " print(i, end=\"\")"
   ]
  },
  {
   "cell_type": "markdown",
   "id": "5a4d7378",
   "metadata": {},
   "source": [
    "9.Write a Python program to compute the similarity between two lists."
   ]
  },
  {
   "cell_type": "code",
   "execution_count": null,
   "id": "2b21d84d",
   "metadata": {},
   "outputs": [],
   "source": [
    "list1 = [\"red\", \"orange\", \"green\", \"blue\", \"white\"]\n",
    "list2 = [\"black\", \"yellow\", \"green\", \"blue\"]\n",
    "color1_color2 = [x\n",
    "     for x in list1\n",
    "     if x not in list2]\n",
    "color2_color1 = [x\n",
    "      for x in list2\n",
    "      if x not in list1]\n",
    "print(\"Color1-Color2:\", color1_color2)\n",
    "print(\"Color2-Color1:\", color2_color1)\n"
   ]
  },
  {
   "cell_type": "markdown",
   "id": "72680782",
   "metadata": {},
   "source": [
    "10.Write a Python program to check if all dictionaries in a list are empty or not."
   ]
  },
  {
   "cell_type": "code",
   "execution_count": null,
   "id": "9d345561",
   "metadata": {},
   "outputs": [],
   "source": [
    "list1 = [{}, {}]\n",
    "list2 = [{'a': 'b'}, ]\n",
    "result1 = all(not d for d in list1)\n",
    "result2 = all(not d for d in list2)\n",
    "\n",
    "print(\"Result for list1:\", result1)\n",
    "print(\"Result for list2:\", result2)\n"
   ]
  },
  {
   "cell_type": "markdown",
   "id": "82d3af00",
   "metadata": {},
   "source": [
    "dictionary"
   ]
  },
  {
   "cell_type": "markdown",
   "id": "2932f2fe",
   "metadata": {},
   "source": [
    "1."
   ]
  },
  {
   "cell_type": "code",
   "execution_count": null,
   "id": "fa30060a",
   "metadata": {},
   "outputs": [],
   "source": [
    "n=5\n",
    "dict1 ={}\n",
    "for val in range(1,n+1):\n",
    "    dict1[val] = val **2\n",
    "    \n",
    "print(dict1)"
   ]
  },
  {
   "cell_type": "markdown",
   "id": "a5e4bd12",
   "metadata": {},
   "source": [
    "2."
   ]
  },
  {
   "cell_type": "code",
   "execution_count": null,
   "id": "fd7319ef",
   "metadata": {},
   "outputs": [],
   "source": [
    "d1={'a':100,'b':200,'c':300}\n",
    "d2={'a':300,'b':200,'d':400}\n"
   ]
  },
  {
   "cell_type": "code",
   "execution_count": null,
   "id": "f1a7e777",
   "metadata": {},
   "outputs": [],
   "source": [
    "d3={}"
   ]
  },
  {
   "cell_type": "code",
   "execution_count": null,
   "id": "bd3596d5",
   "metadata": {},
   "outputs": [],
   "source": [
    "for key in d1:\n",
    "    if key not in d3:\n",
    "        d3[key]=d1[key]\n",
    "        \n",
    "for key in d2:\n",
    "    if key not in d3:\n",
    "        d3[key] = d2[key]\n",
    "    else:\n",
    "            d3[key] += d2[key]\n",
    "        "
   ]
  },
  {
   "cell_type": "code",
   "execution_count": null,
   "id": "cb3dc77c",
   "metadata": {},
   "outputs": [],
   "source": [
    "d3"
   ]
  },
  {
   "cell_type": "markdown",
   "id": "60fe1b25",
   "metadata": {},
   "source": [
    "3."
   ]
  },
  {
   "cell_type": "code",
   "execution_count": null,
   "id": "f526d54c",
   "metadata": {},
   "outputs": [],
   "source": [
    "val=[{\"V\":'S001'},{\"V\":\"S002\"},{\"VI\":\"S001\"},{\"VI\":\"S005\"},{\"VII\":\"S005\"},{\"V\":\"S009\"},{\"VIII\":\"S007\"}]"
   ]
  },
  {
   "cell_type": "code",
   "execution_count": null,
   "id": "116a1ccb",
   "metadata": {},
   "outputs": [],
   "source": [
    "set1 = set()\n",
    "for x in val:\n",
    "    set1.update(set(x.values()))"
   ]
  },
  {
   "cell_type": "code",
   "execution_count": null,
   "id": "ada98cd5",
   "metadata": {},
   "outputs": [],
   "source": [
    "set1"
   ]
  },
  {
   "cell_type": "markdown",
   "id": "b14759e4",
   "metadata": {},
   "source": [
    "4."
   ]
  },
  {
   "cell_type": "code",
   "execution_count": null,
   "id": "8eb1fa73",
   "metadata": {},
   "outputs": [],
   "source": [
    "dict1= {'1':['a','b'], '2':['c','d']}\n",
    "\n",
    "for x in dict1['1']:\n",
    "    for y in dict1['2']:\n",
    "        print(x,y,sep='',end=' ')\n",
    "    "
   ]
  },
  {
   "cell_type": "markdown",
   "id": "8938ffe0",
   "metadata": {},
   "source": [
    "5. Write a Python program to create a dictionary from a string."
   ]
  },
  {
   "cell_type": "code",
   "execution_count": null,
   "id": "0d91cd32",
   "metadata": {},
   "outputs": [],
   "source": [
    "str = 'w3resorce'\n",
    "demo_count = {}\n",
    "for x in str:\n",
    "        if x in demo_count:\n",
    "             demo_count[x]+=1\n",
    "        else:\n",
    "            demo_count[x] = 1\n"
   ]
  },
  {
   "cell_type": "code",
   "execution_count": null,
   "id": "40f9124d",
   "metadata": {},
   "outputs": [],
   "source": [
    "print(demo_count)"
   ]
  },
  {
   "cell_type": "markdown",
   "id": "93624109",
   "metadata": {},
   "source": [
    "6. Write a Python program to count the values associated with key in a dictionary.\n"
   ]
  },
  {
   "cell_type": "code",
   "execution_count": null,
   "id": "3f9e4455",
   "metadata": {},
   "outputs": [],
   "source": [
    "S_data = [{'id': 1, 'success': True, 'name': 'Lary'},\n",
    " {'id': 2, 'success': False, 'name': 'Rabi'},\n",
    " {'id': 3, 'success': True, 'name': 'Alex'}]"
   ]
  },
  {
   "cell_type": "code",
   "execution_count": null,
   "id": "4090fbc1",
   "metadata": {},
   "outputs": [],
   "source": [
    "count = 0\n",
    "for x in S_data:\n",
    "    if 'success' in x and x['success'] ==True:\n",
    "        count+=1"
   ]
  },
  {
   "cell_type": "code",
   "execution_count": null,
   "id": "1bf900a4",
   "metadata": {},
   "outputs": [],
   "source": [
    "print(\"Count of dictionaries with 'success' as True:\",count)"
   ]
  },
  {
   "cell_type": "markdown",
   "id": "39284727",
   "metadata": {},
   "source": [
    "7. Write a Python program to convert a list into a nested dictionary of keys"
   ]
  },
  {
   "cell_type": "code",
   "execution_count": null,
   "id": "63e6df5b",
   "metadata": {},
   "outputs": [],
   "source": [
    "list = ['a','b','c','d']\n",
    "nested_dict = {}\n",
    "current_dict= nested_dict\n",
    "\n",
    "for x in list:\n",
    "    current_dict[x] = {}\n",
    "    current_dict = current_dict[x]"
   ]
  },
  {
   "cell_type": "code",
   "execution_count": null,
   "id": "0e0cc631",
   "metadata": {},
   "outputs": [],
   "source": [
    "print(nested_dict)"
   ]
  },
  {
   "cell_type": "markdown",
   "id": "7ba833ef",
   "metadata": {},
   "source": [
    "8. Write a Python program to sort a list alphabetically in a dictionary"
   ]
  },
  {
   "cell_type": "code",
   "execution_count": 2,
   "id": "37b5fce4",
   "metadata": {},
   "outputs": [
    {
     "name": "stdout",
     "output_type": "stream",
     "text": [
      "{'city': ['akash', 'dev', 'raj'], 'name': ['delhi', 'mumbai', 'surat']}\n"
     ]
    }
   ],
   "source": [
    "my_dict = { 'city': ['akash','raj','dev'],\n",
    " 'name' : ['surat','mumbai','delhi']}\n",
    "for x in my_dict:\n",
    "   my_dict[x].sort()\n",
    "print(my_dict)"
   ]
  },
  {
   "cell_type": "markdown",
   "id": "b0e0316a",
   "metadata": {},
   "source": [
    "\n",
    "\n",
    "9. Write a Python program to sort Counter by value.\n",
    "• Sample data: {'Math':81, 'Physics':83, 'Chemistry':87} Expected data: [('Chemistry', 87), ('Physics', 83), ('Math', 81)]"
   ]
  },
  {
   "cell_type": "code",
   "execution_count": null,
   "id": "f6efa435",
   "metadata": {},
   "outputs": [],
   "source": [
    "dict11= {'Math':'81', 'Physics':'83', 'Chemistry':'87'}\n"
   ]
  },
  {
   "cell_type": "code",
   "execution_count": null,
   "id": "ca828154",
   "metadata": {},
   "outputs": [],
   "source": [
    "for x in dict11:\n",
    "    print(x.keys)"
   ]
  },
  {
   "cell_type": "markdown",
   "id": "00944c20",
   "metadata": {},
   "source": [
    "10. Write a Python program to match key values in two dictionaries. "
   ]
  },
  {
   "cell_type": "code",
   "execution_count": null,
   "id": "b14d448a",
   "metadata": {},
   "outputs": [],
   "source": [
    "x = {'key1': 1, 'key2': 3, 'key3': 2}\n",
    "y = {'key1': 1, 'key2': 2}\n",
    "for key in x:\n",
    "   if key in y and x[key] == y[key]:\n",
    "    print(f\"{key}: {x[key]} is present in both x and y\")"
   ]
  },
  {
   "cell_type": "markdown",
   "id": "7371d967",
   "metadata": {},
   "source": [
    "tuple"
   ]
  },
  {
   "cell_type": "markdown",
   "id": "74b05834",
   "metadata": {},
   "source": [
    "1.Write a Python program to create a tuple with different data types."
   ]
  },
  {
   "cell_type": "code",
   "execution_count": null,
   "id": "a13000e7",
   "metadata": {},
   "outputs": [],
   "source": [
    "tuple = (2,2.2,\"raj\",True)\n",
    "print(tuple)"
   ]
  },
  {
   "cell_type": "markdown",
   "id": "b45f4534",
   "metadata": {},
   "source": [
    "2. Write a Python program to add an item in a tuple"
   ]
  },
  {
   "cell_type": "code",
   "execution_count": null,
   "id": "259e2970",
   "metadata": {},
   "outputs": [],
   "source": [
    "my_tuple = (26,\"raj\")\n",
    "str(my_tuple)\n",
    "type(my_tuple)"
   ]
  },
  {
   "cell_type": "markdown",
   "id": "2c809204",
   "metadata": {},
   "source": [
    "3. Write a Python program to add an item in a tuple"
   ]
  },
  {
   "cell_type": "code",
   "execution_count": null,
   "id": "2d06d25a",
   "metadata": {},
   "outputs": [],
   "source": [
    "program1 = (1,2,3.5,\"raj\")\n",
    "program2 = (1,2,3,\"raj\")\n",
    "program3 = program1 + program2\n",
    "print(program3)"
   ]
  },
  {
   "cell_type": "markdown",
   "id": "159d6972",
   "metadata": {},
   "source": [
    "4.Write a Python program to find the repeated items of a tuple"
   ]
  },
  {
   "cell_type": "code",
   "execution_count": null,
   "id": "53281464",
   "metadata": {},
   "outputs": [],
   "source": [
    "my_tuple = (44,32,32,54,54,4,5,6,7,7)\n",
    "\n",
    "repeted_item = tuple(x\n",
    "               for x in set(my_tuple)\n",
    "               if my_tuple.count(x)>1)\n",
    "print(repeted_item)\n"
   ]
  },
  {
   "cell_type": "markdown",
   "id": "5be58ab4",
   "metadata": {},
   "source": [
    "5.Write a Python program to find the length of a tuple."
   ]
  },
  {
   "cell_type": "code",
   "execution_count": null,
   "id": "d5525083",
   "metadata": {},
   "outputs": [],
   "source": [
    "my_tuple = (32,55,\"raj\",4.5,21)\n",
    "tuple_len = len(my_tuple)\n",
    "print(tuple_len)"
   ]
  },
  {
   "cell_type": "markdown",
   "id": "eddaebc8",
   "metadata": {},
   "source": [
    "6.Write a Python program to convert a tuple to a dictionary"
   ]
  },
  {
   "cell_type": "code",
   "execution_count": null,
   "id": "13747b87",
   "metadata": {},
   "outputs": [],
   "source": [
    "my_tuple = ((\"a\", 1) ,(\"b\" , 2) ,(\"c\",3))\n",
    "\n",
    "my_dict = dict(my_tuple)\n",
    "print(my_dict)"
   ]
  },
  {
   "cell_type": "markdown",
   "id": "4e81c942",
   "metadata": {},
   "source": [
    "7.Write a Python program to replace last value of tuples in a list"
   ]
  },
  {
   "cell_type": "code",
   "execution_count": null,
   "id": "92452d7b",
   "metadata": {},
   "outputs": [],
   "source": [
    "a_list = [(10, 20, 40), (40, 50, 60), (70, 80, 90)]\n",
    "\n",
    "new_value = 100\n",
    "\n",
    "modified_list = [(x[:-1] + (new_value,)) for x in s_list]\n",
    "\n",
    "print(modified_list)"
   ]
  },
  {
   "cell_type": "markdown",
   "id": "eec0434b",
   "metadata": {},
   "source": [
    "8.Write a Python program to replace last value of tuples in a list."
   ]
  },
  {
   "cell_type": "code",
   "execution_count": null,
   "id": "42925f5c",
   "metadata": {},
   "outputs": [],
   "source": [
    "a_List = [(), (), ('',), ('a', 'b'), ('a', 'b', 'c'), ('d')]\n",
    "\n",
    "modified_item = [x\n",
    "                for x in a_List\n",
    "                if x and x[-1]]\n",
    "\n",
    "print(modified_item)"
   ]
  },
  {
   "cell_type": "markdown",
   "id": "3007a9c3",
   "metadata": {},
   "source": [
    "9.Write a Python program to sort a tuple by its float element."
   ]
  },
  {
   "cell_type": "markdown",
   "id": "a61fc6ab",
   "metadata": {},
   "source": [
    "10.Write a Python program to count the elements in a list until an element is a tuple"
   ]
  },
  {
   "cell_type": "code",
   "execution_count": null,
   "id": "b4c894d5",
   "metadata": {},
   "outputs": [],
   "source": [
    "my_list = [1,2,3,(4,5),7,8,9]\n",
    "count = 0\n",
    "for x in my_list:\n",
    "    if isinstance(x,tuple):\n",
    "        break\n",
    "    count+=1\n",
    " \n",
    "print(\"number of element before first tuple\",count)\n"
   ]
  },
  {
   "cell_type": "markdown",
   "id": "0148d740",
   "metadata": {},
   "source": [
    "set"
   ]
  },
  {
   "cell_type": "markdown",
   "id": "d20612dd",
   "metadata": {},
   "source": [
    "1.Write a Python program to iteration over sets"
   ]
  },
  {
   "cell_type": "code",
   "execution_count": null,
   "id": "19e95b98",
   "metadata": {},
   "outputs": [],
   "source": [
    "my_set = {23,22,13,4,30}\n",
    "for x in my_set:\n",
    " print(x)"
   ]
  },
  {
   "cell_type": "markdown",
   "id": "acd04c10",
   "metadata": {},
   "source": [
    "2.Write a Python program to add member(s) in a set"
   ]
  },
  {
   "cell_type": "code",
   "execution_count": null,
   "id": "2ae25e84",
   "metadata": {},
   "outputs": [],
   "source": [
    "a_set = {1,2,3,4,5,15}\n",
    "a_set.add(19)\n",
    "\n",
    "print(a_set)"
   ]
  },
  {
   "cell_type": "markdown",
   "id": "2924c77d",
   "metadata": {},
   "source": [
    "3.Write a Python program to remove item(s) from set"
   ]
  },
  {
   "cell_type": "code",
   "execution_count": null,
   "id": "2d7a4946",
   "metadata": {},
   "outputs": [],
   "source": [
    "a_set = {1,22,32,41,54,72}\n",
    "a_set.remove(22)\n",
    "\n",
    "print(a_set)"
   ]
  },
  {
   "cell_type": "markdown",
   "id": "303613dc",
   "metadata": {},
   "source": [
    "4.. Write a Python program to remove an item from a set if it is present in the set"
   ]
  },
  {
   "cell_type": "code",
   "execution_count": null,
   "id": "2c3451e0",
   "metadata": {},
   "outputs": [],
   "source": [
    "a_set = {1, 2, 3, 4, 5}\n",
    "item_remove = 4\n",
    "\n",
    "\n",
    "a_set.discard(item_remove)\n",
    "\n",
    "print(a_set)"
   ]
  },
  {
   "cell_type": "markdown",
   "id": "7b2ead3e",
   "metadata": {},
   "source": [
    "5.Write a Python program to create an intersection of sets"
   ]
  },
  {
   "cell_type": "code",
   "execution_count": null,
   "id": "0dc08ab2",
   "metadata": {},
   "outputs": [],
   "source": [
    "a_set1 = {11, 23, 35, 41, 50}\n",
    "a_set2 = {23,41,51,50,76}\n",
    "\n",
    "a_set3 = a_set2 & a_set1\n",
    "\n",
    "print(a_set3)\n"
   ]
  },
  {
   "cell_type": "markdown",
   "id": "0dc47799",
   "metadata": {},
   "source": [
    "6.Write a Python program to create a symmetric difference"
   ]
  },
  {
   "cell_type": "code",
   "execution_count": null,
   "id": "a89733bd",
   "metadata": {},
   "outputs": [],
   "source": [
    "my_set1 = {1, 2, 3, 4, 5}\n",
    "\n",
    "my_set2 = {3,4,5,6,7}\n",
    "\n",
    "my_set3 = my_set1 ^ my_set2\n",
    "print(my_set3)"
   ]
  },
  {
   "cell_type": "markdown",
   "id": "e2200548",
   "metadata": {},
   "source": [
    "7.Write a Python program to find maximum and the minimum value in a set"
   ]
  },
  {
   "cell_type": "code",
   "execution_count": null,
   "id": "575b848b",
   "metadata": {},
   "outputs": [],
   "source": [
    "my_set1 = {13, 23, 323, 32, 53}\n",
    "\n",
    "my_set2 = {313,312,51,62,75}\n",
    "\n",
    "my_set3 = max(my_set1)\n",
    "my_set4 = min(my_set2)\n",
    "print(my_set3)\n",
    "print(my_set4)"
   ]
  },
  {
   "cell_type": "markdown",
   "id": "606e8175",
   "metadata": {},
   "source": [
    "8.Write a Python program to find the length of a set"
   ]
  },
  {
   "cell_type": "code",
   "execution_count": null,
   "id": "bfa8654d",
   "metadata": {},
   "outputs": [],
   "source": [
    "my_set1 = {13, 23, 323, 32, 53}\n",
    "\n",
    "my_set2 = {313,312,75}\n",
    "\n",
    "my_set3 = len(my_set1)\n",
    "my_set4 = len(my_set2)\n",
    "print(my_set3)\n",
    "print(my_set4)\n"
   ]
  },
  {
   "cell_type": "markdown",
   "id": "0e0761cc",
   "metadata": {},
   "source": [
    "1.Write a Python program to\n",
    "construct the following pattern, using a nested for loop. * * * * * * * * * * * * * * * * * * * * * * * * *"
   ]
  },
  {
   "cell_type": "code",
   "execution_count": null,
   "id": "bc3be64e",
   "metadata": {},
   "outputs": [],
   "source": [
    "num = 5\n",
    "for i in range(1, num + 1):\n",
    "    \n",
    "    for j in range(i):\n",
    "         print(\"*\", end=\" \")\n",
    "    print()\n",
    "for i in range(num- 1, 0, -1):\n",
    "    for j in range(i):\n",
    "        print(\"*\", end=\" \")\n",
    "    print()\n"
   ]
  },
  {
   "cell_type": "markdown",
   "id": "96490576",
   "metadata": {},
   "source": [
    "2.Write a Python program to count the number of even and odd numbers from a series of"
   ]
  },
  {
   "cell_type": "code",
   "execution_count": null,
   "id": "2db06b01",
   "metadata": {},
   "outputs": [],
   "source": [
    "s_num = (1,2,3,4,5,6,7,8,9)\n",
    "even_num = 0\n",
    "odd_num = 0\n",
    "\n",
    "for x in s_num:\n",
    "    if x % 2 == 0:\n",
    "        even_num+=1\n",
    "    else:\n",
    "        odd_num+=1\n",
    " \n",
    "print(\"number of even number is:\",even_num)\n",
    "print(\"number of odd number is:\",odd_num)"
   ]
  },
  {
   "cell_type": "markdown",
   "id": "b8059a6f",
   "metadata": {},
   "source": [
    "3.Write a Python program that prints all the numbers from 0 to 6 except 3 and 6"
   ]
  },
  {
   "cell_type": "code",
   "execution_count": null,
   "id": "358e8553",
   "metadata": {},
   "outputs": [],
   "source": [
    "for num in range(7):\n",
    "    if num ==3 or num == 6:\n",
    "        continue\n",
    "print(num,end=\" \")"
   ]
  },
  {
   "cell_type": "code",
   "execution_count": null,
   "id": "a4429db6",
   "metadata": {},
   "outputs": [],
   "source": [
    "a, b = 0, 1\n",
    "\n",
    "print(a, end=' ')\n",
    "\n",
    "while b <= 50:\n",
    "    print(b, end=' ')\n",
    "         (a, b = b, a + b)"
   ]
  },
  {
   "cell_type": "markdown",
   "id": "5adecbb5",
   "metadata": {},
   "source": [
    "4.Write a Python program which takes two digits m (row) and n (column) as input and"
   ]
  },
  {
   "cell_type": "code",
   "execution_count": 2,
   "id": "f2f70540",
   "metadata": {},
   "outputs": [
    {
     "name": "stdout",
     "output_type": "stream",
     "text": [
      "enter the number of rows:3\n",
      "enter the number of column4\n",
      "[0, 0, 0, 0]\n",
      "[0, 1, 2, 3]\n",
      "[0, 2, 4, 6]\n"
     ]
    }
   ],
   "source": [
    "rows = int(input(\"enter the number of rows:\"))\n",
    "\n",
    "columns = int(input(\"enter the number of column\"))\n",
    "\n",
    "array_2D= [[i*j for j in range(columns)]\n",
    "           for i in range(rows)]\n",
    "for rows in array_2D:\n",
    "    \n",
    "     print(rows)"
   ]
  },
  {
   "cell_type": "markdown",
   "id": "7b841391",
   "metadata": {},
   "source": [
    "5.Write a Python program to find numbers between 100 and 400 (both included) where\n",
    "each digit of a number is an even number. The numbers obtained should be printed in a comma-separated sequence"
   ]
  },
  {
   "cell_type": "code",
   "execution_count": 1,
   "id": "7fae6a5b",
   "metadata": {},
   "outputs": [
    {
     "name": "stdout",
     "output_type": "stream",
     "text": [
      "200, 202, 204, 206, 208, 220, 222, 224, 226, 228, 240, 242, 244, 246, 248, 260, 262, 264, 266, 268, 280, 282, 284, 286, 288, 400\n"
     ]
    }
   ],
   "source": [
    "even_numbers = []\n",
    "\n",
    "for num in range(100, 401):\n",
    "    digits = [int(digit) for digit in str(num)]\n",
    "    if all(digit % 2 == 0 for digit in digits):\n",
    "        even_numbers.append(num)\n",
    "\n",
    "result = ', '.join(map(str, even_numbers))\n",
    "print(result)"
   ]
  },
  {
   "cell_type": "markdown",
   "id": "74221713",
   "metadata": {},
   "source": [
    "6.Write a Python program to print alphabet pattern 'A'"
   ]
  },
  {
   "cell_type": "code",
   "execution_count": 3,
   "id": "bdc0bba6",
   "metadata": {},
   "outputs": [],
   "source": [
    "def print_pattern():\n",
    "    for row in range(7):\n",
    "        for col in range(7):\n",
    "            if (col == 0 or col == 6) and (row != 0):\n",
    "                print(\"*\", end=\"\")\n",
    "            elif (row == 0 or row == 3) and (col > 0 and col < 6):\n",
    "                print(\"*\", end=\"\")\n",
    "            else:\n",
    "                print(\" \", end=\"\")\n",
    "        print()"
   ]
  },
  {
   "cell_type": "code",
   "execution_count": 4,
   "id": "e2083813",
   "metadata": {},
   "outputs": [
    {
     "name": "stdout",
     "output_type": "stream",
     "text": [
      " ***** \n",
      "*     *\n",
      "*     *\n",
      "*******\n",
      "*     *\n",
      "*     *\n",
      "*     *\n"
     ]
    }
   ],
   "source": [
    "print_pattern()"
   ]
  },
  {
   "cell_type": "markdown",
   "id": "88baaa4c",
   "metadata": {},
   "source": [
    "7.Write a Python program to print alphabet pattern 'P'"
   ]
  },
  {
   "cell_type": "code",
   "execution_count": 5,
   "id": "c348cfba",
   "metadata": {},
   "outputs": [
    {
     "name": "stdout",
     "output_type": "stream",
     "text": [
      "***** \n",
      "*    *\n",
      "*    *\n",
      "***** \n",
      "*     \n",
      "*     \n",
      "*     \n"
     ]
    }
   ],
   "source": [
    "def print_alphabet_P():\n",
    "    rows = 7\n",
    "    columns = 6\n",
    "\n",
    "    for row in range(rows):\n",
    "        for column in range(columns):\n",
    "            if (column == 0 or (row in {0, 3}) and 0 < column < 5 or (row in {1, 2}) and column == 5):\n",
    "                print(\"*\", end=\"\")\n",
    "            else:\n",
    "                print(\" \", end=\"\")\n",
    "        print()\n",
    "\n",
    "print_alphabet_P()"
   ]
  },
  {
   "cell_type": "markdown",
   "id": "bfe71893",
   "metadata": {},
   "source": [
    "8.Write a Python program to check a triangle is valid or not."
   ]
  },
  {
   "cell_type": "code",
   "execution_count": 6,
   "id": "10ebba88",
   "metadata": {},
   "outputs": [],
   "source": [
    "def is_triangle(a, b, c):\n",
    "    if (a + b > c) and (b + c > a) and (c + a > b):\n",
    "        return True\n",
    "    else:\n",
    "        return False"
   ]
  },
  {
   "cell_type": "code",
   "execution_count": 7,
   "id": "66c7656c",
   "metadata": {},
   "outputs": [
    {
     "name": "stdout",
     "output_type": "stream",
     "text": [
      "Enter the length of side 1: 12\n",
      "Enter the length of side 2: 10\n",
      "Enter the length of side 3: 5\n",
      "Triangle is valid.\n"
     ]
    }
   ],
   "source": [
    "side1 = float(input(\"Enter the length of side 1: \"))\n",
    "side2 = float(input(\"Enter the length of side 2: \"))\n",
    "side3 = float(input(\"Enter the length of side 3: \"))\n",
    "\n",
    "if is_triangle(side1, side2, side3):\n",
    "    print(\"Triangle is valid.\")\n",
    "else:\n",
    "    print(\"Triangle is not valid.\")"
   ]
  },
  {
   "cell_type": "markdown",
   "id": "896c3cdc",
   "metadata": {},
   "source": [
    "9.Write a Python program to create the multiplication table (from 1 to 10) of a number"
   ]
  },
  {
   "cell_type": "code",
   "execution_count": 8,
   "id": "93920bc8",
   "metadata": {},
   "outputs": [
    {
     "name": "stdout",
     "output_type": "stream",
     "text": [
      "Enter a number: 2\n",
      "2 x 1 = 2\n",
      "2 x 2 = 4\n",
      "2 x 3 = 6\n",
      "2 x 4 = 8\n",
      "2 x 5 = 10\n",
      "2 x 6 = 12\n",
      "2 x 7 = 14\n",
      "2 x 8 = 16\n",
      "2 x 9 = 18\n",
      "2 x 10 = 20\n"
     ]
    }
   ],
   "source": [
    "def multiplication_table(number):\n",
    "    for i in range(1, 11):\n",
    "        print(f\"{number} x {i} = {number * i}\")\n",
    "\n",
    "# Taking input from user\n",
    "num = int(input(\"Enter a number: \"))\n",
    "\n",
    "# Calling the function\n",
    "multiplication_table(num)"
   ]
  },
  {
   "cell_type": "markdown",
   "id": "1ad894f5",
   "metadata": {},
   "source": [
    "Write a Python program to construct the following pattern, using a nested loop number.\n",
    "1 22 333 4444 55555 666666 7777777 88888888 999999999"
   ]
  },
  {
   "cell_type": "code",
   "execution_count": 9,
   "id": "b5797ed0",
   "metadata": {},
   "outputs": [
    {
     "name": "stdout",
     "output_type": "stream",
     "text": [
      "1\n",
      "22\n",
      "333\n",
      "4444\n",
      "55555\n",
      "666666\n",
      "7777777\n",
      "88888888\n",
      "999999999\n"
     ]
    }
   ],
   "source": [
    "def construct_pattern(n):\n",
    "    for i in range(1, n + 1):\n",
    "        for j in range(i):\n",
    "            print(i, end=\"\")\n",
    "        print()\n",
    "\n",
    "# Test the function\n",
    "construct_pattern(9)"
   ]
  },
  {
   "cell_type": "markdown",
   "id": "dcb2fbbb",
   "metadata": {},
   "source": [
    "functions"
   ]
  },
  {
   "cell_type": "markdown",
   "id": "ffb019e3",
   "metadata": {},
   "source": [
    "1.Write a Python function to find the Max of three numbers."
   ]
  },
  {
   "cell_type": "code",
   "execution_count": 1,
   "id": "2341304f",
   "metadata": {},
   "outputs": [],
   "source": [
    "def find_max(a, b, c):\n",
    "    max_num = max(a, b, c)\n",
    "    return max_num"
   ]
  },
  {
   "cell_type": "code",
   "execution_count": 2,
   "id": "fac17212",
   "metadata": {},
   "outputs": [
    {
     "name": "stdout",
     "output_type": "stream",
     "text": [
      "The maximum number is: 10\n"
     ]
    }
   ],
   "source": [
    "num1 = 5\n",
    "num2 = 10\n",
    "num3 = 7\n",
    "\n",
    "max_number = find_max(num1, num2, num3)\n",
    "print(\"The maximum number is:\", max_number)"
   ]
  },
  {
   "cell_type": "markdown",
   "id": "bcd50ef8",
   "metadata": {},
   "source": [
    "2.Write a Python function to sum all the numbers in a list"
   ]
  },
  {
   "cell_type": "code",
   "execution_count": 3,
   "id": "dc47944e",
   "metadata": {},
   "outputs": [],
   "source": [
    "def sum_list_numbers(numbers):\n",
    "    total_sum = 0\n",
    "    \n",
    "    for num in numbers:\n",
    "        if isinstance(num, (int, float)):\n",
    "            total_sum += num\n",
    "    \n",
    "    return total_sum"
   ]
  },
  {
   "cell_type": "code",
   "execution_count": 4,
   "id": "a1434481",
   "metadata": {},
   "outputs": [
    {
     "name": "stdout",
     "output_type": "stream",
     "text": [
      "15\n"
     ]
    }
   ],
   "source": [
    "my_list = [1, 2, 3, 4, 5]\n",
    "print(sum_list_numbers(my_list))"
   ]
  },
  {
   "cell_type": "markdown",
   "id": "09c45a49",
   "metadata": {},
   "source": [
    "3.Write a Python function to multiply all the numbers in a list"
   ]
  },
  {
   "cell_type": "code",
   "execution_count": 5,
   "id": "82ab1d2a",
   "metadata": {},
   "outputs": [],
   "source": [
    "def multiply_list(numbers):\n",
    "    result = 1\n",
    "    for num in numbers:\n",
    "        result *= num\n",
    "    return result"
   ]
  },
  {
   "cell_type": "code",
   "execution_count": 6,
   "id": "d35836a1",
   "metadata": {},
   "outputs": [
    {
     "name": "stdout",
     "output_type": "stream",
     "text": [
      "120\n"
     ]
    }
   ],
   "source": [
    "my_list = [2, 3, 4, 5]\n",
    "print(multiply_list(my_list))"
   ]
  },
  {
   "cell_type": "markdown",
   "id": "2a41748f",
   "metadata": {},
   "source": [
    "4.Write a Python function that accepts a string and calculate the number of upper case\n",
    "letters and lower case letters"
   ]
  },
  {
   "cell_type": "code",
   "execution_count": 7,
   "id": "b3957126",
   "metadata": {},
   "outputs": [],
   "source": [
    "def count_case_letters(string):\n",
    "    uppercase_count = 0\n",
    "    lowercase_count = 0\n",
    "\n",
    "    for char in string:\n",
    "        if char.isupper():\n",
    "            uppercase_count += 1\n",
    "        elif char.islower():\n",
    "            lowercase_count += 1\n",
    "\n",
    "    return uppercase_count, lowercase_count"
   ]
  },
  {
   "cell_type": "code",
   "execution_count": 8,
   "id": "13fa9df9",
   "metadata": {},
   "outputs": [
    {
     "name": "stdout",
     "output_type": "stream",
     "text": [
      "Number of uppercase letters: 2\n",
      "Number of lowercase letters: 8\n"
     ]
    }
   ],
   "source": [
    "input_string = \"Hello, World!\"\n",
    "upper, lower = count_case_letters(input_string)\n",
    "print(\"Number of uppercase letters:\", upper)\n",
    "print(\"Number of lowercase letters:\", lower)"
   ]
  },
  {
   "cell_type": "markdown",
   "id": "8e1f0136",
   "metadata": {},
   "source": [
    "5.Write a Python function that takes a list and returns a new list with unique elements of\n",
    "the first list\n"
   ]
  },
  {
   "cell_type": "code",
   "execution_count": 9,
   "id": "e7ed0a77",
   "metadata": {},
   "outputs": [],
   "source": [
    "def get_unique_elements(lst):\n",
    "    unique_lst = []\n",
    "    for el in lst:\n",
    "        if el not in unique_lst:\n",
    "            unique_lst.append(el)\n",
    "    return unique_lst"
   ]
  },
  {
   "cell_type": "code",
   "execution_count": 10,
   "id": "f4207d48",
   "metadata": {},
   "outputs": [
    {
     "name": "stdout",
     "output_type": "stream",
     "text": [
      "[1, 2, 3, 4, 5]\n"
     ]
    }
   ],
   "source": [
    "my_lst = [1, 2, 2, 3, 4, 4, 5]\n",
    "unique_elements = get_unique_elements(my_lst)\n",
    "print(unique_elements)"
   ]
  },
  {
   "cell_type": "markdown",
   "id": "00945a16",
   "metadata": {},
   "source": [
    "6.Write a Python program to print the even numbers from a given list"
   ]
  },
  {
   "cell_type": "code",
   "execution_count": 1,
   "id": "f4e1af98",
   "metadata": {},
   "outputs": [],
   "source": [
    "def print_even_numbers(numbers):\n",
    "    for num in numbers:\n",
    "        if num % 2 == 0:\n",
    "            print(num)"
   ]
  },
  {
   "cell_type": "code",
   "execution_count": 2,
   "id": "e41057e1",
   "metadata": {},
   "outputs": [
    {
     "name": "stdout",
     "output_type": "stream",
     "text": [
      "2\n",
      "4\n",
      "6\n",
      "8\n",
      "10\n"
     ]
    }
   ],
   "source": [
    "numbers = [1, 2, 3, 4, 5, 6, 7, 8, 9, 10]\n",
    "print_even_numbers(numbers)"
   ]
  },
  {
   "cell_type": "markdown",
   "id": "6e599d41",
   "metadata": {},
   "source": [
    "7.Write a Python function that checks whether a passed string is palindrome or not"
   ]
  },
  {
   "cell_type": "code",
   "execution_count": 3,
   "id": "a41cd187",
   "metadata": {},
   "outputs": [],
   "source": [
    "def is_palindrome(s):\n",
    "    # Removing spaces and converting to lowercase\n",
    "    s = s.replace(\" \", \"\").lower()\n",
    "    # Reversing the string\n",
    "    reverse = s[::-1]\n",
    "    # Checking if the original and reversed strings are equal\n",
    "    if s == reverse:\n",
    "        return True\n",
    "    else:\n",
    "        return False\n"
   ]
  },
  {
   "cell_type": "code",
   "execution_count": 4,
   "id": "29e1fcba",
   "metadata": {},
   "outputs": [
    {
     "name": "stdout",
     "output_type": "stream",
     "text": [
      "Madam Arora teaches malayalam is not a palindrome\n"
     ]
    }
   ],
   "source": [
    "string = \"Madam Arora teaches malayalam\"\n",
    "if is_palindrome(string):\n",
    "    print(f\"{string} is a palindrome\")\n",
    "else:\n",
    "    print(f\"{string} is not a palindrome\")"
   ]
  },
  {
   "cell_type": "markdown",
   "id": "a47a3b07",
   "metadata": {},
   "source": [
    "8.Write a Python program to access a function inside a function"
   ]
  },
  {
   "cell_type": "code",
   "execution_count": 5,
   "id": "27a9bf3d",
   "metadata": {},
   "outputs": [
    {
     "name": "stdout",
     "output_type": "stream",
     "text": [
      "This is the outer function.\n",
      "This is the inner function.\n"
     ]
    }
   ],
   "source": [
    "def outer_function():\n",
    "    print(\"This is the outer function.\")\n",
    "    \n",
    "    def inner_function():\n",
    "        print(\"This is the inner function.\")\n",
    "        \n",
    "    # Call the inner function\n",
    "    inner_function()\n",
    "\n",
    "# Call the outer function\n",
    "outer_function()"
   ]
  },
  {
   "cell_type": "markdown",
   "id": "71c6537b",
   "metadata": {},
   "source": [
    "9.Write a Python program to detect the number of local variables declared in a function"
   ]
  },
  {
   "cell_type": "code",
   "execution_count": 6,
   "id": "756535e2",
   "metadata": {},
   "outputs": [],
   "source": [
    "import inspect\n",
    "\n",
    "def count_local_variables(func):\n",
    "    # Get the source code of the function\n",
    "    source_code = inspect.getsource(func)\n",
    "    \n",
    "    # Get the list of lines in the source code\n",
    "    lines = source_code.split('\\n')\n",
    "    \n",
    "    # Count the number of local variables declared\n",
    "    count = 0\n",
    "    \n",
    "    for line in lines:\n",
    "        # Check if the line declares a local variable\n",
    "        if '=' in line and not line.startswith('def') and not line.startswith('#'):\n",
    "            count += 1\n",
    "    \n",
    "    return count\n"
   ]
  },
  {
   "cell_type": "code",
   "execution_count": 8,
   "id": "bb382e81",
   "metadata": {},
   "outputs": [
    {
     "name": "stdout",
     "output_type": "stream",
     "text": [
      "3\n"
     ]
    }
   ],
   "source": [
    "def example_function():\n",
    "    x = 5\n",
    "    y = \"Hello\"\n",
    "    z = [1, 2, 3]\n",
    "    \n",
    "print(count_local_variables(example_function)) "
   ]
  },
  {
   "cell_type": "code",
   "execution_count": null,
   "id": "6b332c86",
   "metadata": {},
   "outputs": [],
   "source": []
  }
 ],
 "metadata": {
  "kernelspec": {
   "display_name": "Python 3 (ipykernel)",
   "language": "python",
   "name": "python3"
  },
  "language_info": {
   "codemirror_mode": {
    "name": "ipython",
    "version": 3
   },
   "file_extension": ".py",
   "mimetype": "text/x-python",
   "name": "python",
   "nbconvert_exporter": "python",
   "pygments_lexer": "ipython3",
   "version": "3.11.4"
  }
 },
 "nbformat": 4,
 "nbformat_minor": 5
}
